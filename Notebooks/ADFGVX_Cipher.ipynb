{
  "nbformat": 4,
  "nbformat_minor": 0,
  "metadata": {
    "colab": {
      "provenance": [],
      "authorship_tag": "ABX9TyNo2SVWXYkQv08/1hXfI3Uq",
      "include_colab_link": true
    },
    "kernelspec": {
      "name": "python3",
      "display_name": "Python 3"
    },
    "language_info": {
      "name": "python"
    }
  },
  "cells": [
    {
      "cell_type": "markdown",
      "metadata": {
        "id": "view-in-github",
        "colab_type": "text"
      },
      "source": [
        "<a href=\"https://colab.research.google.com/github/vnwrywn/CryptoLearning/blob/main/ADFGVX_Cipher.ipynb\" target=\"_parent\"><img src=\"https://colab.research.google.com/assets/colab-badge.svg\" alt=\"Open In Colab\"/></a>"
      ]
    },
    {
      "cell_type": "markdown",
      "source": [
        "# ADFGVX Cipher\n",
        "\n",
        "Implementasi encoding & decoding ADFGVX Cipher dengan python.\n",
        "\n",
        "Oleh Muhammad Ivan Wiryawan (NIM 195150200111060 & No. Absen 6)\n",
        "\n",
        "Dibuat dalam rangka pengerjaan tugas mata kuliah Kriptografi.\n",
        "\n",
        "---\n",
        "\n",
        "Dalam tabel yang digunakan untuk proses enkripsi & dekripsi, setiap huruf latin dan angka hanya muncul satu kali, maka dari itu digunakan fungsi sebagai berikut untuk mempermudah pembuatan tabel."
      ],
      "metadata": {
        "id": "0TJ3pxA2W3ZN"
      }
    },
    {
      "cell_type": "code",
      "source": [
        "def remove_duplicate(str):\n",
        "  s = ''.join(set(str))\n",
        "  t = ''\n",
        "\n",
        "  for i in str:\n",
        "    t += i * (not i in t)\n",
        "    \n",
        "  return t"
      ],
      "metadata": {
        "id": "SUpfPEdrZroc"
      },
      "execution_count": 18,
      "outputs": []
    },
    {
      "cell_type": "markdown",
      "source": [
        "## Fungsi Create Table\n",
        "\n",
        "Fungsi ini digunakan untuk membuat tabel yang akan digunakan dalam proses enkripsi dan dekripsi. Tabel dibuat dengan pertama-tama menjabarkan seluruh huruf dan angka yang berada dalam sebuah tabel."
      ],
      "metadata": {
        "id": "wcQo1_ddSaqS"
      }
    },
    {
      "cell_type": "code",
      "source": [
        "def create_table(key):\n",
        "  keyspace = ['A1', 'B2', 'C3', 'D4', 'E5', 'F6', 'G7', 'H8', 'I9', 'J0', 'K', 'L', 'M', 'N', 'O', 'P', 'Q', 'R', 'S', 'T', 'U', 'V', 'W', 'X', 'Y', 'Z']\n",
        "  alphanum = remove_duplicate(''.join([keyspace[ord(i)-65] for i in key.upper().replace(' ', '')] + keyspace))\n",
        "\n",
        "  table = [[None]*6 for _ in range(6)]\n",
        "\n",
        "  for i in range(len(alphanum)):\n",
        "    table[i//6][i%6] = alphanum[i]\n",
        "  \n",
        "  return table"
      ],
      "metadata": {
        "id": "aJRWeNY6ag7F"
      },
      "execution_count": 19,
      "outputs": []
    },
    {
      "cell_type": "markdown",
      "source": [
        "## Fungsi 2 Dimensional Index\n",
        "\n",
        "Fungsi ini digunakan untuk mencari indeks dua dimensi suatu list, yang digunakan dalam berbagai fungsi implementasi ADFGVX ini."
      ],
      "metadata": {
        "id": "TMeQeRD8TBTm"
      }
    },
    {
      "cell_type": "code",
      "source": [
        "def two_dim_index(t, l):\n",
        "  for i in range(len(t)):\n",
        "    try:\n",
        "      return [i, t[i].index(l)]\n",
        "    except ValueError:\n",
        "      continue"
      ],
      "metadata": {
        "id": "V0rEPusMlujT"
      },
      "execution_count": 20,
      "outputs": []
    },
    {
      "cell_type": "markdown",
      "source": [
        "## Fungsi Encode\n",
        "\n",
        "Fungsi ini memetakan plaintext dengan tabel yang telah dibuat menjadi rangkaian huruf yang terdiri atas huruf 'A', 'D', 'F', 'G', 'V', dan 'X'"
      ],
      "metadata": {
        "id": "SkRQXRnpTTIv"
      }
    },
    {
      "cell_type": "code",
      "source": [
        "def encode(t, p):\n",
        "  in_trans = ['A', 'D', 'F', 'G', 'V', 'X']\n",
        "  res = ''\n",
        "\n",
        "  for letter in p.replace(' ', '').upper():\n",
        "    indices = two_dim_index(t, letter)\n",
        "    res += in_trans[indices[0]] + in_trans[indices[1]]\n",
        "\n",
        "  return res"
      ],
      "metadata": {
        "id": "jAVeVdACe-h8"
      },
      "execution_count": 21,
      "outputs": []
    },
    {
      "cell_type": "markdown",
      "source": [
        "## Fungsi Decode\n",
        "\n",
        "Fungsi ini memetakan kembali rangkaian huruf yang terdiri atas huruf 'A', 'D', 'F', 'G', 'V', dan 'X' dengan tabel yang telah dibuat menjadi plaintext."
      ],
      "metadata": {
        "id": "Qm4BSvRpTxLZ"
      }
    },
    {
      "cell_type": "code",
      "source": [
        "def decode(t, c):\n",
        "  in_trans = ['A', 'D', 'F', 'G', 'V', 'X']\n",
        "  return ''.join([t[in_trans.index(c[i * 2])][in_trans.index(c[(i * 2) + 1])] for i in range(len(c) // 2)])"
      ],
      "metadata": {
        "id": "t9y5PEvFm5vW"
      },
      "execution_count": 22,
      "outputs": []
    },
    {
      "cell_type": "markdown",
      "source": [
        "## Fungsi Enkripsi\n",
        "\n",
        "Fungsi ini merupakan tahapan terakhir dalam proses enkripsi yang melakukan transposisi kolum berdasarkan sebuah key dan kemudian mengurutkan teks dari kolom-ke-kolom."
      ],
      "metadata": {
        "id": "3UDQ-4_sUDHW"
      }
    },
    {
      "cell_type": "code",
      "source": [
        "def encrypt(k, p):\n",
        "  k = remove_duplicate(k.replace(' ', '').upper())\n",
        "  order = [sorted(k).index(letter) for letter in k]\n",
        "  column = {i:[] for i in order}\n",
        "\n",
        "  for i in range(len(p)):\n",
        "    column[order[i % len(order)]] += p[i]\n",
        "\n",
        "  return ''.join(letter for i in range(len(k)) for letter in column[i])"
      ],
      "metadata": {
        "id": "dP6eim28piDU"
      },
      "execution_count": 23,
      "outputs": []
    },
    {
      "cell_type": "markdown",
      "source": [
        "## Fungsi Dekripsi\n",
        "\n",
        "Fungsi ini merupakan tahapan awal dari proses dekripsi yang dilakukan dengan memecah ciphertext menjadi beberapa kolom. Kolom-kolom ini kemudian ditransposisikan berdasarkan sebuah key, yang kemudian akan dibaca secara baris-per-baris."
      ],
      "metadata": {
        "id": "Cpy5uiJWUVuv"
      }
    },
    {
      "cell_type": "code",
      "source": [
        "from math import ceil\n",
        "\n",
        "def decrypt(k, c):\n",
        "  k = remove_duplicate(k).upper()\n",
        "  order = [sorted(k).index(letter) for letter in k]\n",
        "  column = {i:'' for i in order}\n",
        "  counter = 0\n",
        "  row = ceil(len(c) / len(k)) + (1 * ((len(c) % len(k)) == 0))\n",
        "\n",
        "  for i in range(len(k)):\n",
        "    row -= 1 * ((len(c) % len(k)) == i)\n",
        "    column[i] = c[counter:counter+row]\n",
        "    counter += row\n",
        "  \n",
        "  return ''.join([column[order[i % len(column)]][i // len(column)] for i in range(len(c))])"
      ],
      "metadata": {
        "id": "2PbkkwCo69t_"
      },
      "execution_count": 24,
      "outputs": []
    },
    {
      "cell_type": "markdown",
      "source": [
        "## Percobaan\n",
        "\n",
        "Percobaan enkripsi plaintext menjadi ciphertext dan dekripsi ciphertext kembali menjadi plaintex didasarkan pada contoh pada [halaman wikipedia cipher ADFGVX](https://en.wikipedia.org/wiki/ADFGVX_cipher)."
      ],
      "metadata": {
        "id": "DZ4hlYB0VGgy"
      }
    },
    {
      "cell_type": "code",
      "source": [
        "plaintext = 'attack at 1200am'\n",
        "squarekey = 'nachtbommenwerper'\n",
        "table = create_table(squarekey)\n",
        "table"
      ],
      "metadata": {
        "colab": {
          "base_uri": "https://localhost:8080/"
        },
        "id": "mcYOEYjCGQBA",
        "outputId": "0a1320b9-2ebd-4a4d-fc62-5baf600e7272"
      },
      "execution_count": 25,
      "outputs": [
        {
          "output_type": "execute_result",
          "data": {
            "text/plain": [
              "[['N', 'A', '1', 'C', '3', 'H'],\n",
              " ['8', 'T', 'B', '2', 'O', 'M'],\n",
              " ['E', '5', 'W', 'R', 'P', 'D'],\n",
              " ['4', 'F', '6', 'G', '7', 'I'],\n",
              " ['9', 'J', '0', 'K', 'L', 'Q'],\n",
              " ['S', 'U', 'V', 'X', 'Y', 'Z']]"
            ]
          },
          "metadata": {},
          "execution_count": 25
        }
      ]
    },
    {
      "cell_type": "code",
      "source": [
        "encoded_plaintext = encode(table, plaintext)\n",
        "encoded_plaintext"
      ],
      "metadata": {
        "colab": {
          "base_uri": "https://localhost:8080/",
          "height": 36
        },
        "id": "w-El3fPJG8HH",
        "outputId": "61d01076-1aad-4341-f60a-b113498c5d33"
      },
      "execution_count": 26,
      "outputs": [
        {
          "output_type": "execute_result",
          "data": {
            "text/plain": [
              "'ADDDDDADAGVGADDDAFDGVFVFADDX'"
            ],
            "application/vnd.google.colaboratory.intrinsic+json": {
              "type": "string"
            }
          },
          "metadata": {},
          "execution_count": 26
        }
      ]
    },
    {
      "cell_type": "code",
      "source": [
        "key = 'privacy'\n",
        "ciphertext = encrypt(key, encoded_plaintext)\n",
        "ciphertext"
      ],
      "metadata": {
        "colab": {
          "base_uri": "https://localhost:8080/",
          "height": 36
        },
        "id": "gQLgq0ZQKmJp",
        "outputId": "4e335f44-851e-47ff-b17f-c781bcaf11e5"
      },
      "execution_count": 27,
      "outputs": [
        {
          "output_type": "execute_result",
          "data": {
            "text/plain": [
              "'DGDDDAGDDGAFADDFDADVDVFAADVX'"
            ],
            "application/vnd.google.colaboratory.intrinsic+json": {
              "type": "string"
            }
          },
          "metadata": {},
          "execution_count": 27
        }
      ]
    },
    {
      "cell_type": "code",
      "source": [
        "decrypted_ciphertext = decrypt(key, ciphertext)\n",
        "decrypted_ciphertext"
      ],
      "metadata": {
        "colab": {
          "base_uri": "https://localhost:8080/",
          "height": 36
        },
        "id": "QDXJFLLaMltS",
        "outputId": "22e86a1d-7c43-4d34-a2ec-0c58269e5934"
      },
      "execution_count": 28,
      "outputs": [
        {
          "output_type": "execute_result",
          "data": {
            "text/plain": [
              "'ADDDDDADAGVGADDDAFDGVFVFADDX'"
            ],
            "application/vnd.google.colaboratory.intrinsic+json": {
              "type": "string"
            }
          },
          "metadata": {},
          "execution_count": 28
        }
      ]
    },
    {
      "cell_type": "code",
      "source": [
        "decoded_decrypted_ciphertext = decode(table, decrypted_ciphertext)\n",
        "decoded_decrypted_ciphertext"
      ],
      "metadata": {
        "colab": {
          "base_uri": "https://localhost:8080/",
          "height": 36
        },
        "id": "n3GXkFdCQafO",
        "outputId": "7e4f2e29-c0d6-4db5-9464-964c79795a83"
      },
      "execution_count": 29,
      "outputs": [
        {
          "output_type": "execute_result",
          "data": {
            "text/plain": [
              "'ATTACKAT1200AM'"
            ],
            "application/vnd.google.colaboratory.intrinsic+json": {
              "type": "string"
            }
          },
          "metadata": {},
          "execution_count": 29
        }
      ]
    }
  ]
}