{
  "nbformat": 4,
  "nbformat_minor": 0,
  "metadata": {
    "colab": {
      "provenance": [],
      "authorship_tag": "ABX9TyPGJllgykabbfwBjUGJ3CVQ",
      "include_colab_link": true
    },
    "kernelspec": {
      "name": "python3",
      "display_name": "Python 3"
    },
    "language_info": {
      "name": "python"
    }
  },
  "cells": [
    {
      "cell_type": "markdown",
      "metadata": {
        "id": "view-in-github",
        "colab_type": "text"
      },
      "source": [
        "<a href=\"https://colab.research.google.com/github/vnwrywn/CryptoLearning/blob/main/RSA.ipynb\" target=\"_parent\"><img src=\"https://colab.research.google.com/assets/colab-badge.svg\" alt=\"Open In Colab\"/></a>"
      ]
    },
    {
      "cell_type": "markdown",
      "source": [
        "# Kriptosistem Rivest–Shamir–Adleman (RSA)\n",
        "\n",
        "Implementasi Kriptosistem Rivest–Shamir–Adleman (RSA) dengan python.\n",
        "\n",
        "Oleh Muhammad Ivan Wiryawan (NIM 195150200111060 & No. Absen 6)\n",
        "\n",
        "Dibuat dalam rangka pengerjaan tugas mata kuliah Kriptografi.\n",
        "\n",
        "---\n",
        "\n",
        "## Import Module\n",
        "\n",
        "Berbagai modul diperlukan untuk mengimplementasikan RSA dengan python. Selain itu beberapa modul juga diperlukan untuk mendemonstrasikan penyerangan terhadap implementasi RSA yang tidak aman."
      ],
      "metadata": {
        "id": "0TJ3pxA2W3ZN"
      }
    },
    {
      "cell_type": "code",
      "source": [
        "from math import gcd, sqrt, ceil, floor\n",
        "from random import randrange\n",
        "import decimal\n",
        "import sys"
      ],
      "metadata": {
        "id": "da2k6yBD3xLm"
      },
      "execution_count": null,
      "outputs": []
    },
    {
      "cell_type": "markdown",
      "source": [
        "## Fungsi Invers Pengalian Modulo\n",
        "\n",
        "Untuk menentukan nilai d, kita perlu melakukan invers pengalian modulo terhadap $e$ modulo $\\lambda$. Hal ini dapat dilakukan dengan mudah pada python 3.8+. Akan tetapi, karena gogole colab menggunakan python versi 3.7.15 kita perlu membuat fungsi tersendiri untuk menerapkan invers pengalian modulo. Untuk menerapkan fungsi ini, kita memerluka fungsi FPB yang efisien dan dirancang khusus untuk fungsi invers pengalian modulo kita."
      ],
      "metadata": {
        "id": "ZYbtT-V5hkYK"
      }
    },
    {
      "cell_type": "code",
      "source": [
        "def egcd(a, b):\n",
        "\n",
        "  if a == 0:\n",
        "    return (b, 0, 1)\n",
        "\n",
        "  else:\n",
        "    g, y, x = egcd(b % a, a)\n",
        "    return (g, x - (b // a) * y, y)\n",
        "\n",
        "def mod_inverse(a, m):\n",
        "  g, x, y = egcd(a, m)\n",
        "\n",
        "  if g == 1:\n",
        "    return x % m\n",
        "\n",
        "  else:\n",
        "    raise Exception('no modular inverse')"
      ],
      "metadata": {
        "id": "69h5Ogxkxfr5"
      },
      "execution_count": null,
      "outputs": []
    },
    {
      "cell_type": "markdown",
      "source": [
        "## Generasi Key\n",
        "\n",
        "Kriptosistem RSA menggunakan beberapa kunci, yang di antaranya adalah: n (modulus), e (eksponen public), dan d (eksponen rahasia). Variabel n diperoleh dengan mengalikan p dan q (bilangan prima). Variabel $\\lambda(n)$ perlu dikomputasikan dengan menggunakan rumus $\\lambda(n) = lcm(lambda(p), lambda(p)) = lcm(p-1, q-1)$. Fungsi untuk menentukan KPK tersedia dalam library math untuk python 3.5+, akan tetapi tidak dapat di-_import_ melalui _instance_ colab ini, sehingga perlu dibuat fungsi-nya tersendiri dengan menerapkan rumus $lcm(a, b) = \\dfrac{\\left | ab \\right |} {gcd(a,b)}$. Variabel $\\lambda(n)$ digunakan dalam menentukan $e$, sehingga $1 < e < \\lambda(n)$ dan $gcd(e, \\lambda(n))$. Variabel $d$ kemudian dikomputasikan dengan $d \\equiv e^{−1} (\\mod \\lambda(n))$."
      ],
      "metadata": {
        "id": "k47ptMmOkQXb"
      }
    },
    {
      "cell_type": "code",
      "source": [
        "# Gunakan math.lcm() pada python 3.9+\n",
        "def lcm(a, b):\n",
        "  return abs(a * b) // gcd(a, b)"
      ],
      "metadata": {
        "id": "ypmKpwfp3kzj"
      },
      "execution_count": null,
      "outputs": []
    },
    {
      "cell_type": "code",
      "source": [
        "def generate_keys(p, q, e=0):\n",
        "  n = p * q\n",
        "  cf_n = lcm((p - 1), (q - 1))\n",
        "  \n",
        "  if e == 0:\n",
        "    e = randrange(1, cf_n)\n",
        "    g = gcd(e, cf_n)\n",
        "\n",
        "    while True:\n",
        "      e = randrange(1, cf_n)\n",
        "      g = gcd(e, cf_n)\n",
        "      d = mod_inverse(e, cf_n)\n",
        "\n",
        "      if g == 1 and e != d:\n",
        "        break\n",
        "\n",
        "  else:\n",
        "    d = mod_inverse(e, cf_n)\n",
        "\n",
        "  return ((e, n), (d, n))"
      ],
      "metadata": {
        "id": "SUpfPEdrZroc"
      },
      "execution_count": null,
      "outputs": []
    },
    {
      "cell_type": "markdown",
      "source": [
        "## Fungsi Enkripsi\n",
        "\n",
        "Untuk melakukan enkripsi terhadap suatu plaintext $m$ menjadi ciphertext $c$, digunakan rumus berikut. $$c \\equiv m^{e} (\\mod n)$$ Untuk melakukan enkripsi, plaintext pertama-tama harus di-encode ke dalam bentuk integer agar dapat dioperasikan. Untuk mengubah plaintext string menjadi integer, setiap huruf pada string dapat di-_decode_ sesuai dengan nomor ASCII-nya dan kemudian diubah menjadi string heksadesimal. String heksadesimal ini kemudian di-_cast_ menjadi integer secara keseluruhannya dan diubah dengan mengikuti rumus di atas."
      ],
      "metadata": {
        "id": "x9olJz2to2Ix"
      }
    },
    {
      "cell_type": "code",
      "source": [
        "def encrypt(p, key):\n",
        "  e, n = key\n",
        "  m = '0x'\n",
        "\n",
        "  for char in p:\n",
        "    m += hex(ord(char))[2:]\n",
        "\n",
        "  return pow(int(m, 0), e, n)"
      ],
      "metadata": {
        "id": "j2FFjtCszM1R"
      },
      "execution_count": null,
      "outputs": []
    },
    {
      "cell_type": "markdown",
      "source": [
        "## Fungsi Dekripsi\n",
        "\n",
        "Untuk melakukan dekripsi terhadap suatu ciphertext $c$ menjadi plaintext $m$, digunakan rumus berikut. $$m \\equiv c^{d} (\\mod n)$$ Untuk melakukan enkripsi, plaintext pertama-tama diubah dengan mengikuti rumus di atas, lalu diubah menjadi string heksadesimal. String heksadesimal ini kemudian ditranslasikan secara langsung menjadi string ASCII."
      ],
      "metadata": {
        "id": "DNa8sswppj29"
      }
    },
    {
      "cell_type": "code",
      "source": [
        "def decrypt(c, key):\n",
        "  d, n = key\n",
        "  res = bytes.fromhex(hex(pow(c, d, n))[2:]).decode('utf-8')\n",
        "  \n",
        "  return res"
      ],
      "metadata": {
        "id": "Du5cr1d50Prd"
      },
      "execution_count": null,
      "outputs": []
    },
    {
      "cell_type": "markdown",
      "source": [
        "Catatan: $d$ dapat digunakan untuk melakukan _signing_ dengan mengenkripsi hash dari pesan dengan menggunakan rumus $c \\equiv hash(m)^{d} (\\mod n)$. Verifikasi _sign_ kemudian dilakukan dengan melakukan dekripsi dengan menggunakan rumus $hash(m) \\equiv c^{e} (\\mod n)$. Proses _signing_ dapat digunakan untuk memastikan bahwa suatu pesan benar-benar dikirim oleh seseorang, karena $d$ (harusnya) hanya diketahui oleh pengirim.\n",
        "\n",
        "## Contoh\n",
        "\n",
        "Untuk mendemonstrasikan proses enkripsi dan dekripsi RSA, pertama-tama kita perlu menentukan nilai p, q, dan e (dapat ditentukan secara otomatis melalui fungsi `generate_keys()`). Kemudian kita mengenerasikan kunci public dan private dengan menggunakan fungsi `generate_keys()`."
      ],
      "metadata": {
        "id": "4xYmLS1NqBk_"
      }
    },
    {
      "cell_type": "code",
      "source": [
        "p = 30015612851481800163145824211828338261413382292790584457054499062507044817040728341690870065470432181409810774142161519778252587630533918037805771246208706720205699941638685693936864749777451034676171694531262268574649020866993235775129431727651701029771811813255651429786267886419653775125853176632392525213\n",
        "q = 17719842803345829609147997585534573574103070131643374729678771438471674919388468936368916163398796348115998882101971455756733471133506792568528967349802844671228181682201529458832662110189178035470305127209240816034739235935127061585044161495037790251195536985856822323336983333522129818151265418420956257327\n",
        "e = 65537\n",
        "public, private = generate_keys(p, q, e)\n",
        "print('e:', public[0])\n",
        "print('n:', public[1])\n",
        "print('d:', private[0])\n",
        "print('n:', private[1])"
      ],
      "metadata": {
        "id": "xJ-uJ_FN11YP",
        "colab": {
          "base_uri": "https://localhost:8080/"
        },
        "outputId": "0b26fb72-79b4-4f33-b287-5598b1a7cc7f"
      },
      "execution_count": null,
      "outputs": [
        {
          "output_type": "stream",
          "name": "stdout",
          "text": [
            "e: 65537\n",
            "n: 531871941374344372167169323250866207346623640488167774883925228871921220128151440279892448899228603322466710861747228131558066199714472637055546381930534204457125050708383810101794235938758578884734881281418698033490027180180153617647402022407743034218773865326123331835947057340209042659146567448074386113277175774290160285702889707227056592283842009094687967526430087455854433095071949209724515885774729123181618637569563216296254704443034750154450376184667529745699446628606332688885791287435112772451055843557844644448275344991264065190788445033398674763045313878903833635674603665076430533305795161234963485651\n",
            "d: 117002575320718415758031037937466440504085829759035580061668218329287093254002461426601910917194543145093650464528583669876140812079947998968976489437913112068882796833281495799892694196088963971210503737342468674929058727995747054421511435632580547237927625866407068908843076821853209149288433448264162604245370417836727206014181315596379049865320499115233410718119673009726462295978646483647564085380878008739121383093042522255446695221845019884419231077340330499312550935711325152481623880415843409617851225377124574945408473845657959638280274021621287185271190664134031698532780691845922226137806583374892643465\n",
            "n: 531871941374344372167169323250866207346623640488167774883925228871921220128151440279892448899228603322466710861747228131558066199714472637055546381930534204457125050708383810101794235938758578884734881281418698033490027180180153617647402022407743034218773865326123331835947057340209042659146567448074386113277175774290160285702889707227056592283842009094687967526430087455854433095071949209724515885774729123181618637569563216296254704443034750154450376184667529745699446628606332688885791287435112772451055843557844644448275344991264065190788445033398674763045313878903833635674603665076430533305795161234963485651\n"
          ]
        }
      ]
    },
    {
      "cell_type": "markdown",
      "source": [
        "Setelah key digenerasikan, kita dapat melakukan proses enkripsi dengan menggunakan fungsi `encrypt()`. Ciphertext yang telah diperoleh kemudian dapat didekripsi dengan menggunakan fungsi `decrypt()`."
      ],
      "metadata": {
        "id": "FJoEamjVs8xG"
      }
    },
    {
      "cell_type": "code",
      "source": [
        "plaintext = 'lorem ipsum'\n",
        "ciphertext = encrypt(plaintext, public)\n",
        "print('Ciphertext:', ciphertext)\n",
        "decrypted_ciphertext = decrypt(ciphertext, private)\n",
        "print('Decrypted Ciphertext:', decrypted_ciphertext)"
      ],
      "metadata": {
        "id": "lNqXgkzH4H0Q",
        "colab": {
          "base_uri": "https://localhost:8080/"
        },
        "outputId": "56addffc-02f3-4119-e8cb-adbabca5d5a6"
      },
      "execution_count": null,
      "outputs": [
        {
          "output_type": "stream",
          "name": "stdout",
          "text": [
            "Ciphertext: 54611987937732336924366393677214644087876697644416474932828921817883196165901396665540422061897789021075314241821651508361361151090659532911063444624936810773493991034303895525417807795259835431167467294597647357166385189599101656199737930288282415959282288216150219638878881828164858187890851791748170039040475978631828431484244183532564856712148816336414241899602719018367134883593665206535400383471062192404924459108234836458966650800657801195524008096661715691061350652744718141394284206822990363214954276098048027565489000903061420842243140992858129671368239717404559357109009486817446977775301985594808563416\n",
            "Decrypted Ciphertext: lorem ipsum\n"
          ]
        }
      ]
    },
    {
      "cell_type": "markdown",
      "source": [
        "## Pecobaan Penyerangan\n",
        "\n",
        "### Penyerangan dengan Metode Brute Force\n",
        "\n",
        "Solusi penyerangan yang paling simpel dan mahal adalah dengan melakukan serangan bruteforce untuk mencari variabel p atau q dengan mencari faktor n secara sekuensial. Hal ini sangat mudah jika p atau q bernilai sangat kecil. Akan tetapi, metode ini dapat menjadi sangat mahal ataupun tidak mungkin untuk dilakukan apabila ukuran p dan q sangat besar, seperti sebagaimana lazimnya."
      ],
      "metadata": {
        "id": "bkI1QvNrvyVZ"
      }
    },
    {
      "cell_type": "code",
      "source": [
        "def bruteforce(n):\n",
        "  for i in range(2, ceil(sqrt(n))):\n",
        "    if n % i == 0:\n",
        "      return i"
      ],
      "metadata": {
        "id": "6OSJdC_OvNX2"
      },
      "execution_count": null,
      "outputs": []
    },
    {
      "cell_type": "code",
      "source": [
        "p = 61\n",
        "q = 53\n",
        "e = 17\n",
        "plaintext = 'A'\n",
        "public, private = generate_keys(p, q, e)\n",
        "print('e:', public[0])\n",
        "print('n:', public[1])\n",
        "ciphertext = encrypt(plaintext, public)\n",
        "print('Ciphertext:', ciphertext)"
      ],
      "metadata": {
        "colab": {
          "base_uri": "https://localhost:8080/"
        },
        "id": "YhxPj6M4taOh",
        "outputId": "7db86e93-07a9-4b22-c732-ce567283a92a"
      },
      "execution_count": null,
      "outputs": [
        {
          "output_type": "stream",
          "name": "stdout",
          "text": [
            "e: 17\n",
            "n: 3233\n",
            "Ciphertext: 2790\n"
          ]
        }
      ]
    },
    {
      "cell_type": "code",
      "source": [
        "n = 3233\n",
        "p_cracked = bruteforce(n)\n",
        "q_cracked = n // p_cracked\n",
        "d_cracked = mod_inverse(17, lcm((p_cracked - 1), (q_cracked - 1)))\n",
        "decrypt(2790, (d_cracked, n))"
      ],
      "metadata": {
        "colab": {
          "base_uri": "https://localhost:8080/",
          "height": 36
        },
        "id": "78puGY2yzb6l",
        "outputId": "abb0c5c0-6504-4b8e-8f98-23a8052498a2"
      },
      "execution_count": null,
      "outputs": [
        {
          "output_type": "execute_result",
          "data": {
            "text/plain": [
              "'A'"
            ],
            "application/vnd.google.colaboratory.intrinsic+json": {
              "type": "string"
            }
          },
          "metadata": {},
          "execution_count": 473
        }
      ]
    },
    {
      "cell_type": "markdown",
      "source": [
        "Dapat dilihat bahwa proses penyerangan dapat dilakukan dalam waktu yang sangat cepat, dikarenakan ukutan p dan q yang sangat kecil.\n",
        "\n",
        "Untuk percobaan berikutnya, kita akan melakukan penyerangan dengan metode brute force terhadap nilai p dan q yang sangat berjauhan, sehingga salah satunya menjadi sangat kecil."
      ],
      "metadata": {
        "id": "j45aLGQAzMdp"
      }
    },
    {
      "cell_type": "code",
      "source": [
        "p = 2455782092362068153759284200389162744625754916643583857406201854084923116558938934679657691870353654367809190558995974904050863664254954066259836164398999\n",
        "q = 53819\n",
        "e = 65537\n",
        "plaintext = 'A'\n",
        "public, private = generate_keys(p, q, e)\n",
        "print('e:', public[0])\n",
        "print('n:', public[1])\n",
        "ciphertext = encrypt(plaintext, public)\n",
        "print('Ciphertext:', ciphertext)"
      ],
      "metadata": {
        "colab": {
          "base_uri": "https://localhost:8080/"
        },
        "id": "Dy_Ve841xOfK",
        "outputId": "22d7db64-7ffd-488b-f9cc-3c191da3772e"
      },
      "execution_count": null,
      "outputs": [
        {
          "output_type": "stream",
          "name": "stdout",
          "text": [
            "e: 65537\n",
            "n: 132167736428834145967170916380744349753013503858841039621744377584996477210085534525524497318770563324421122826694604373361113431546537372892038122531789727181\n",
            "Ciphertext: 95389788262796403535021499242066002208896350183600540268800980053697058561013208668958347077268527507690201575592282512337498695579004598618013511329704297325\n"
          ]
        }
      ]
    },
    {
      "cell_type": "code",
      "source": [
        "n = 132167736428834145967170916380744349753013503858841039621744377584996477210085534525524497318770563324421122826694604373361113431546537372892038122531789727181\n",
        "p_cracked = bruteforce(n)\n",
        "q_cracked = n // p_cracked\n",
        "d_cracked = mod_inverse(65537, lcm((p_cracked - 1), (q_cracked - 1)))\n",
        "decrypt(95389788262796403535021499242066002208896350183600540268800980053697058561013208668958347077268527507690201575592282512337498695579004598618013511329704297325, (d_cracked, n))"
      ],
      "metadata": {
        "colab": {
          "base_uri": "https://localhost:8080/",
          "height": 36
        },
        "id": "3AqOD5utxtad",
        "outputId": "03e4607b-cc98-403c-f32d-bc296ffa813d"
      },
      "execution_count": null,
      "outputs": [
        {
          "output_type": "execute_result",
          "data": {
            "text/plain": [
              "'A'"
            ],
            "application/vnd.google.colaboratory.intrinsic+json": {
              "type": "string"
            }
          },
          "metadata": {},
          "execution_count": 475
        }
      ]
    },
    {
      "cell_type": "markdown",
      "source": [
        "Dapat dilihat bahwa, meskipun nilai $n$ cukup besar, salah satu faktornya dapat dipecahkan dengan mudah karena berukuran sangat kecil. Maka dari itu, kita harus menghindari penggunaan nilai p dan q yang terlalu kecil. Sejak tahun 2020, rekomendasi ukuran key minimum adalah 2048 bit.\n",
        "\n",
        "### Penyerangan dengan Metode Brute Force Mundur\n",
        "\n",
        "Dalam kondisi selisih nilai p dan q sangat kecil, penyerangan brute-force dapat dilakukan dari akar kuadrat nilai n dan kemudian di-dekremen."
      ],
      "metadata": {
        "id": "nXkwOQ0Rz2q1"
      }
    },
    {
      "cell_type": "code",
      "source": [
        "p = 14067596681028047262628791508362831627045477834885788430404510354806103106077\n",
        "q = 14067596681028047262628791508362831627045477834885788430404510354806103106173\n",
        "e = 65537\n",
        "plaintext = 'lorem ipsum'\n",
        "public, private = generate_keys(p, q, e)\n",
        "print('e:', public[0])\n",
        "print('n:', public[1])\n",
        "ciphertext = encrypt(plaintext, public)\n",
        "print('Ciphertext:', ciphertext)"
      ],
      "metadata": {
        "colab": {
          "base_uri": "https://localhost:8080/"
        },
        "id": "SeQM5Dzu3idU",
        "outputId": "94b593d4-ec3e-4a43-d93b-1cf31c6f5671"
      },
      "execution_count": null,
      "outputs": [
        {
          "output_type": "stream",
          "name": "stdout",
          "text": [
            "e: 65537\n",
            "n: 197897276380071330918336632165112876285525821472597233236725533580110473596837775424512081154431671785022967033612984943230533689788048854204373012513321\n",
            "Ciphertext: 128089455737117345298530888745317906967266402716600279625902361067424552328613473394941009416027849713950912143855435454617838648724785301935135541356005\n"
          ]
        }
      ]
    },
    {
      "cell_type": "code",
      "source": [
        "def rev_bruteforce(n):\n",
        "  decimal.getcontext().prec = 1000\n",
        "  for i in range(ceil(decimal.Decimal(n).sqrt()), 2, -1):\n",
        "    if n % i == 0:\n",
        "      return i"
      ],
      "metadata": {
        "id": "_lMR5t_S4_oM"
      },
      "execution_count": null,
      "outputs": []
    },
    {
      "cell_type": "code",
      "source": [
        "n = 197897276380071330918336632165112876285525821472597233236725533580110473596837775424512081154431671785022967033612984943230533689788048854204373012513321\n",
        "p_cracked = rev_bruteforce(n)\n",
        "q_cracked = n // p_cracked\n",
        "d_cracked = mod_inverse(65537, lcm((p_cracked - 1), (q_cracked - 1)))\n",
        "decrypt(128089455737117345298530888745317906967266402716600279625902361067424552328613473394941009416027849713950912143855435454617838648724785301935135541356005, (d_cracked, n))"
      ],
      "metadata": {
        "colab": {
          "base_uri": "https://localhost:8080/",
          "height": 36
        },
        "id": "jYxZvEXh5Kql",
        "outputId": "55a07f4c-33e5-4c2b-fd74-cdb8e1b84f8e"
      },
      "execution_count": null,
      "outputs": [
        {
          "output_type": "execute_result",
          "data": {
            "text/plain": [
              "'lorem ipsum'"
            ],
            "application/vnd.google.colaboratory.intrinsic+json": {
              "type": "string"
            }
          },
          "metadata": {},
          "execution_count": 478
        }
      ]
    },
    {
      "cell_type": "markdown",
      "source": [
        "### Penyerangan dengan Faktorisasi Fermat\n",
        "\n",
        "Dalam hal selisih p dan q terlalu jauh untuk penyerangan brute force mundur, tetapi masih terlalu dekat, dapat digunakan faktorisasi fermat untuk mencari faktor dari n."
      ],
      "metadata": {
        "id": "dLe2iznbGTpZ"
      }
    },
    {
      "cell_type": "code",
      "source": [
        "p = 14067596681028047262628791508362831627045477834885788430408510354806103106123\n",
        "q = 14067596681028047262628791508362831627045477834885384610408510332604131196127\n",
        "e = 65537\n",
        "plaintext = 'lorem ipsum'\n",
        "public, private = generate_keys(p, q, e)\n",
        "print('e:', public[0])\n",
        "print('n:', public[1])\n",
        "ciphertext = encrypt(plaintext, public)\n",
        "print('Ciphertext:', ciphertext)"
      ],
      "metadata": {
        "colab": {
          "base_uri": "https://localhost:8080/"
        },
        "id": "PoHu-wic77DH",
        "outputId": "b9cf0f44-4f1e-4393-8a05-5a97bdbbce87"
      },
      "execution_count": null,
      "outputs": [
        {
          "output_type": "stream",
          "name": "stdout",
          "text": [
            "e: 65537\n",
            "n: 197897276380071330918336632165112876285525821472591552459946341295184716862957963430874528476670634156894790593742866435379931202427814195497778007585621\n",
            "Ciphertext: 170374534219219694339500499655337169628519903947121941775857651910843570653507096122024552055029063982556791721701153878701093244706030888834262759271749\n"
          ]
        }
      ]
    },
    {
      "cell_type": "code",
      "source": [
        "def fermat_factor(n):\n",
        "  decimal.getcontext().prec = 1500\n",
        "\n",
        "  for a in range(ceil(decimal.Decimal(n).sqrt()), n):\n",
        "    b1 = (decimal.Decimal(a) ** 2) - n\n",
        "    b = round(b1.sqrt())\n",
        "\n",
        "    if(b * b == b1):\n",
        "      return (int(a-b), int(a + b))\n",
        "\n",
        "  return (n, n)"
      ],
      "metadata": {
        "id": "2SFlPFwb12dA"
      },
      "execution_count": null,
      "outputs": []
    },
    {
      "cell_type": "code",
      "source": [
        "n = 197897276380071330918336632165112876285525821472591552459946341295184716862957963430874528476670634156894790593742866435379931202427814195497778007585621\n",
        "p_cracked, q_cracked = fermat_factor(n)\n",
        "d_cracked = mod_inverse(65537, lcm((p_cracked - 1), (q_cracked - 1)))\n",
        "decrypt(170374534219219694339500499655337169628519903947121941775857651910843570653507096122024552055029063982556791721701153878701093244706030888834262759271749, (d_cracked, n))"
      ],
      "metadata": {
        "colab": {
          "base_uri": "https://localhost:8080/",
          "height": 36
        },
        "id": "mfrsjZEF79rM",
        "outputId": "42afbeb2-7481-4979-81e7-bb95c28f9aed"
      },
      "execution_count": null,
      "outputs": [
        {
          "output_type": "execute_result",
          "data": {
            "text/plain": [
              "'lorem ipsum'"
            ],
            "application/vnd.google.colaboratory.intrinsic+json": {
              "type": "string"
            }
          },
          "metadata": {},
          "execution_count": 504
        }
      ]
    },
    {
      "cell_type": "markdown",
      "source": [
        "Dapat dilihat bahwa, meskipun ukuran $n$ cukup besar, selisih antara $p$ dan $q$ yang relatif kecil menimbulkan celah keamanan yang cukup fatal. Maka dari itu, perlu diperhatikan agar selisih tersebut cukuplah besar.\n",
        "\n",
        "### Penyerangan dengan Pengakaran Kubik\n",
        "\n",
        "Dalam hal nilai $e$ yang digunakan terlalu kecil, seperti 3, besar plaintext cukup kecil, dan ukuran n cukup besar, kita dapat memecahkan plaintext dari ciphertext tanpa mencari nilai $d$ dan hanya dengan mengakar kubik-kan nilai $c$."
      ],
      "metadata": {
        "id": "oCMLb1wMGipu"
      }
    },
    {
      "cell_type": "code",
      "source": [
        "p = 30015612851481800163145824211828338261413382292790584457054499062507044817040728341690870065470432181409810774142161519778252587630533918037805771246208706720205699941638685693936864749777451034676171694531262268574649020866993235775129431727651701029771811813255651429786267886419653775125853176632392525213\n",
        "q = 17719842803345829609147997585534573574103070131643374729678771438471674919388468936368916163398796348115998882101971455756733471133506792568528967349802844671228181682201529458832662110189178035470305127209240816034739235935127061585044161495037790251195536985856822323336983333522129818151265418420956257327\n",
        "e = 3\n",
        "plaintext = 'test'\n",
        "n = p * q\n",
        "encrypt(plaintext, (e, n))\n",
        "ciphertext = encrypt(plaintext, (e, n))\n",
        "print('Ciphertext:', ciphertext)"
      ],
      "metadata": {
        "colab": {
          "base_uri": "https://localhost:8080/"
        },
        "id": "WT9QfeI-EG_x",
        "outputId": "7a55ffd7-6e7b-4fa6-9907-7db401b02fa2"
      },
      "execution_count": null,
      "outputs": [
        {
          "output_type": "stream",
          "name": "stdout",
          "text": [
            "Ciphertext: 7446927644895231780144668992\n"
          ]
        }
      ]
    },
    {
      "cell_type": "code",
      "source": [
        "def cube_root_dec(c):\n",
        "  decimal.getcontext().prec = 1000\n",
        "  m = floor(decimal.Decimal(c) ** (decimal.Decimal('1') / 3))\n",
        "  return bytes.fromhex(hex(m)[2:]).decode('utf-8')"
      ],
      "metadata": {
        "id": "JNGitiX0FeLQ"
      },
      "execution_count": null,
      "outputs": []
    },
    {
      "cell_type": "code",
      "source": [
        "cube_root_dec(ciphertext)"
      ],
      "metadata": {
        "colab": {
          "base_uri": "https://localhost:8080/",
          "height": 36
        },
        "id": "tmDPQXemGZJk",
        "outputId": "3d2fe227-9310-455a-f2d3-e0f7908dbe2e"
      },
      "execution_count": null,
      "outputs": [
        {
          "output_type": "execute_result",
          "data": {
            "text/plain": [
              "'tess'"
            ],
            "application/vnd.google.colaboratory.intrinsic+json": {
              "type": "string"
            }
          },
          "metadata": {},
          "execution_count": 313
        }
      ]
    },
    {
      "cell_type": "markdown",
      "source": [
        "Dapat dilihat bahwa hasil dekripsi tidaklah sempurna, di mana karakter terakhir tidak berhasil di-dekripsi dengan tepat. Hal ini dikarenakan sifat dari operasi pengakaran yang tidak dapat memberikan hasil yang sempurna.\n",
        "\n",
        "## Kesimpulan\n",
        "\n",
        "Keamanan dari kriptosistem RSA tersendiri berasal dari kesulitan permasalahan RSA, yakni menghitung salah satu bilangan prima (p) hanya dengan public key (N, e) dan sebuah ciphertext (c). Akan tetapi, kesulitan tersebut dapat dilangkahi apabila implementasi yang dilakukan tidak tepat. Hal ini telah didemonstrasikan pada percobaan-percobaan yang telah dilakukan. Meskipun tidak mencakup seluruh implementasi berbahaya, percobaan-percobaan ini mencakup berbagai implementasi yang paling mudah diserang. Maka dari itu, penting halnya untuk mengikuti standar-standar yang terpancang, seperti PKCS#1, dalam mengimplementasikan algoritma RSA."
      ],
      "metadata": {
        "id": "VgU32-eKHZbG"
      }
    }
  ]
}