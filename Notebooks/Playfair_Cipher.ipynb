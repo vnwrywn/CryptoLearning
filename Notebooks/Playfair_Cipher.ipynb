{
  "nbformat": 4,
  "nbformat_minor": 0,
  "metadata": {
    "colab": {
      "provenance": [],
      "authorship_tag": "ABX9TyP1x2OAyQDKLhb5fKsmgSve",
      "include_colab_link": true
    },
    "kernelspec": {
      "name": "python3",
      "display_name": "Python 3"
    },
    "language_info": {
      "name": "python"
    }
  },
  "cells": [
    {
      "cell_type": "markdown",
      "metadata": {
        "id": "view-in-github",
        "colab_type": "text"
      },
      "source": [
        "<a href=\"https://colab.research.google.com/github/vnwrywn/CryptoLearning/blob/main/Playfair_Cipher.ipynb\" target=\"_parent\"><img src=\"https://colab.research.google.com/assets/colab-badge.svg\" alt=\"Open In Colab\"/></a>"
      ]
    },
    {
      "cell_type": "markdown",
      "source": [
        "# Playfair Cipher\n",
        "\n",
        "Implementasi encoding & decoding Playfair Cipher dengan python.\n",
        "\n",
        "Oleh Muhammad Ivan Wiryawan (NIM 195150200111060 & No. Absen 6)\n",
        "\n",
        "Dibuat dalam rangka pengerjaan tugas mata kuliah Kriptografi.\n",
        "\n",
        "---\n",
        "\n",
        "## Import Module\n",
        "\n",
        "Playfair Cipher menggunakan seluruh huruf dalam alfabet latin (meskipun dengan menyamakan penggunaan huruf i dengan j) pada tabel yang digunakan dalam proses enkripsi dan dekripsi. Maka dari itu, ascii_uppercase digunakan untuk memperoleh seluruh huruf tersebut dengan mudah."
      ],
      "metadata": {
        "id": "iZjNdwQyjgwC"
      }
    },
    {
      "cell_type": "code",
      "source": [
        "from string import ascii_uppercase"
      ],
      "metadata": {
        "id": "sZPlTKkLMj6l"
      },
      "execution_count": null,
      "outputs": []
    },
    {
      "cell_type": "markdown",
      "source": [
        "## Fungsi Process\n",
        "\n",
        "Plaintext yang dapat digunakan pada program ini dapat berukuran berapapun, meskipun Playfair cipher menggunakan bigram dalam proses enkripsinya. Maka dari itu, plaintext yang berukuran ganjil harus ditambahkan dengan huruf \"X\" di akhirnya. Selain itu, bigram yang digunakan pada proses enkripsi tidak boleh berupa dua buah huruf yang sama, sehingga perlu disisipkan huruf \"X\" di antaranya."
      ],
      "metadata": {
        "id": "MthhnX5-nXqy"
      }
    },
    {
      "cell_type": "code",
      "source": [
        "# p = 'AABAABBAAA'; res = 'AXABAXABBAAXAX'\n",
        "\n",
        "def process(p):\n",
        "  res = ''\n",
        "\n",
        "  i = 0\n",
        "  while i < len(p) - 1:\n",
        "    if p[i] == p[i+1]:\n",
        "      res += p[i] + 'X'\n",
        "      i += 1\n",
        "    else:\n",
        "      res += p[i:i+2]\n",
        "      i += 2\n",
        "\n",
        "  if i != len(p):\n",
        "    res += p[-1]\n",
        "\n",
        "  res += 'X'*(len(res)%2)\n",
        "  return res"
      ],
      "metadata": {
        "id": "UmZRbexTewao"
      },
      "execution_count": null,
      "outputs": []
    },
    {
      "cell_type": "markdown",
      "source": [
        "## Fungsi Remove Duplicate\n",
        "\n",
        "Dalam tabel yang digunakan untuk proses enkripsi & dekripsi, setiap huruf latin hanya muncul satu kali, maka dari itu digunakan fungsi sebagai berikut untuk mempermudah pembuatan tabel."
      ],
      "metadata": {
        "id": "Ij-q7vN6lekW"
      }
    },
    {
      "cell_type": "code",
      "execution_count": null,
      "metadata": {
        "id": "LpSVmAFMAZxA"
      },
      "outputs": [],
      "source": [
        "def remove_duplicate(str):\n",
        "  s = set(str)\n",
        "  s = ''.join(s)\n",
        "  t = ''\n",
        "\n",
        "  for i in str:\n",
        "    if(i in t):\n",
        "      pass\n",
        "    else:\n",
        "      t=t+i\n",
        "    \n",
        "  return t"
      ]
    },
    {
      "cell_type": "markdown",
      "source": [
        "## Fungsi Create Table\n",
        "\n",
        "Fungsi ini digunakan untuk membuat tabel yang akan digunakan dalam proses enkripsi dan dekripsi."
      ],
      "metadata": {
        "id": "B7Qg8tgLmG24"
      }
    },
    {
      "cell_type": "code",
      "source": [
        "def create_table(key):\n",
        "  table = [[None]*5 for _ in range(5)]\n",
        "\n",
        "  for i in range(len(key)):\n",
        "    table[i//5][i%5] = key[i]\n",
        "  \n",
        "  return table"
      ],
      "metadata": {
        "id": "NFsh1A2rY2fO"
      },
      "execution_count": null,
      "outputs": []
    },
    {
      "cell_type": "markdown",
      "source": [
        "## Fungsi 2 Dimensional Index\n",
        "\n",
        "Fungsi ini digunakan untuk mencari indeks dua dimensi dari suatu huruf pada tabel."
      ],
      "metadata": {
        "id": "_QMJi-q4mWUP"
      }
    },
    {
      "cell_type": "code",
      "source": [
        "def two_dim_index(t, l):\n",
        "  for i in range(len(t)):\n",
        "    try:\n",
        "      return [i, table[i].index(l)]\n",
        "    except ValueError:\n",
        "      continue"
      ],
      "metadata": {
        "id": "bbcW0wV-Y4Lp"
      },
      "execution_count": null,
      "outputs": []
    },
    {
      "cell_type": "markdown",
      "source": [
        "## Fungsi Encode\n",
        "\n",
        "Fungsi ini memetakan pasangan huruf (bigram) plaintext menjadi pasangan huruf ciphertext dengan bantuan tabel."
      ],
      "metadata": {
        "id": "bCoNy0mLmqjo"
      }
    },
    {
      "cell_type": "code",
      "source": [
        "def encode(t, bi):\n",
        "  indices = [two_dim_index(t, bi[0]), two_dim_index(t, bi[1])]\n",
        "  \n",
        "  # Kedua huruf berada pada kolom atau baris yang sama\n",
        "  if indices[0][0] == indices[1][0]:\n",
        "    return t[indices[0][0]][(indices[0][1] + 1) % 5] + t[indices[1][0]][(indices[1][1] + 1) % 5]\n",
        "  if indices[0][1] == indices[1][1]:\n",
        "    return t[(indices[0][0] + 1) % 5][indices[0][1]] + t[(indices[1][0] + 1) % 5][indices[1][1]]\n",
        "  \n",
        "  return t[indices[0][0]][indices[1][1]] + t[indices[1][0]][indices[0][1]]"
      ],
      "metadata": {
        "id": "_a1ELYToY5vL"
      },
      "execution_count": null,
      "outputs": []
    },
    {
      "cell_type": "markdown",
      "source": [
        "## Fungsi Decode\n",
        "\n",
        "Fungsi ini memetakan pasangan huruf (bigram) ciphetext menjadi pasangan huruf plaintext dengan bantuan tabel."
      ],
      "metadata": {
        "id": "ItCwky6Pm-rO"
      }
    },
    {
      "cell_type": "code",
      "source": [
        "def decode(t, bi):\n",
        "  if bi[0] == bi[1]:\n",
        "    bi = bi[0] + 'X'\n",
        "\n",
        "  indices = [two_dim_index(t, bi[0]), two_dim_index(t, bi[1])]\n",
        "  \n",
        "  if indices[0][0] == indices[1][0]:\n",
        "    return t[indices[0][0]][(indices[0][1] - 1) % 5] + t[indices[1][0]][(indices[1][1] - 1) % 5]\n",
        "  if indices[0][1] == indices[1][1]:\n",
        "    return t[(indices[0][0] - 1) % 5][indices[0][1]] + t[(indices[1][0] - 1) % 5][indices[1][1]]\n",
        "  \n",
        "  return t[indices[0][0]][indices[1][1]] + t[indices[1][0]][indices[0][1]]"
      ],
      "metadata": {
        "id": "V-gMgg3rhM9K"
      },
      "execution_count": null,
      "outputs": []
    },
    {
      "cell_type": "markdown",
      "source": [
        "## Pemrosesan Plaintext\n",
        "\n",
        "Plaintext pertama-tama dikapitalkan dan dihapus seluruh spasinya. Kemudian plaintext diproses dengan fungsi process."
      ],
      "metadata": {
        "id": "adqos1B5u_sP"
      }
    },
    {
      "cell_type": "code",
      "source": [
        "plaintext = 'hide the gold in the tree stump'.upper().replace(' ', '')\n",
        "plaintext = process(plaintext)\n",
        "plaintext"
      ],
      "metadata": {
        "colab": {
          "base_uri": "https://localhost:8080/",
          "height": 36
        },
        "id": "cplnxXN6nSrk",
        "outputId": "1e09359b-bfae-425a-d0d2-9e6983084618"
      },
      "execution_count": null,
      "outputs": [
        {
          "output_type": "execute_result",
          "data": {
            "text/plain": [
              "'HIDETHEGOLDINTHETREXESTUMP'"
            ],
            "application/vnd.google.colaboratory.intrinsic+json": {
              "type": "string"
            }
          },
          "metadata": {},
          "execution_count": 40
        }
      ]
    },
    {
      "cell_type": "markdown",
      "source": [
        "## Pembuatan Tabel\n",
        "\n",
        "Tabel dibuat dari key dengan menggunakan fungsi create table."
      ],
      "metadata": {
        "id": "1ewOYFX2vRS2"
      }
    },
    {
      "cell_type": "code",
      "source": [
        "key = 'playfairexample'.upper()\n",
        "table = create_table(remove_duplicate(key + ascii_uppercase).replace('J', ''))\n",
        "table"
      ],
      "metadata": {
        "colab": {
          "base_uri": "https://localhost:8080/"
        },
        "id": "R8bedbnlM0av",
        "outputId": "30deaf9e-54a8-465e-a625-dad6c7b1fd9d"
      },
      "execution_count": null,
      "outputs": [
        {
          "output_type": "execute_result",
          "data": {
            "text/plain": [
              "[['P', 'L', 'A', 'Y', 'F'],\n",
              " ['I', 'R', 'E', 'X', 'M'],\n",
              " ['B', 'C', 'D', 'G', 'H'],\n",
              " ['K', 'N', 'O', 'Q', 'S'],\n",
              " ['T', 'U', 'V', 'W', 'Z']]"
            ]
          },
          "metadata": {},
          "execution_count": 41
        }
      ]
    },
    {
      "cell_type": "markdown",
      "source": [
        "## Proses Enkripsi\n",
        "\n",
        "Proses enkripsi dilakukan dengan menggunakan fungsi encode terhadap setiap bigram dalam plaintext."
      ],
      "metadata": {
        "id": "SLfbAQALvkuZ"
      }
    },
    {
      "cell_type": "code",
      "source": [
        "ciphertext = ''\n",
        "\n",
        "for i in range(len(plaintext)//2):\n",
        "  ciphertext += encode(table, plaintext[i*2:(i*2)+2])\n",
        "\n",
        "ciphertext"
      ],
      "metadata": {
        "colab": {
          "base_uri": "https://localhost:8080/",
          "height": 36
        },
        "id": "KTQnQ_AEanVo",
        "outputId": "89d35df6-3327-4b17-cacd-2e410dc5ac5f"
      },
      "execution_count": null,
      "outputs": [
        {
          "output_type": "execute_result",
          "data": {
            "text/plain": [
              "'BMODZBXDNABEKUDMUIXMMOUVIF'"
            ],
            "application/vnd.google.colaboratory.intrinsic+json": {
              "type": "string"
            }
          },
          "metadata": {},
          "execution_count": 42
        }
      ]
    },
    {
      "cell_type": "markdown",
      "source": [
        "## Proses Dekripsi\n",
        "\n",
        "Proses dekripsi dilakukan dengan menggunakan fungsi decode terhadap setiap \n",
        "bigram dalam ciphertext."
      ],
      "metadata": {
        "id": "M0xRzD64wKp9"
      }
    },
    {
      "cell_type": "code",
      "source": [
        "decoded = ''\n",
        "\n",
        "for i in range(len(plaintext)//2):\n",
        "  decoded += decode(table, ciphertext[i*2:(i*2)+2])\n",
        "\n",
        "decoded"
      ],
      "metadata": {
        "colab": {
          "base_uri": "https://localhost:8080/",
          "height": 36
        },
        "id": "j_wEzLbRb92j",
        "outputId": "36d64ee1-40e2-4ac2-d7c0-7ba7d96d9b77"
      },
      "execution_count": null,
      "outputs": [
        {
          "output_type": "execute_result",
          "data": {
            "text/plain": [
              "'HIDETHEGOLDINTHETREXESTUMP'"
            ],
            "application/vnd.google.colaboratory.intrinsic+json": {
              "type": "string"
            }
          },
          "metadata": {},
          "execution_count": 43
        }
      ]
    }
  ]
}