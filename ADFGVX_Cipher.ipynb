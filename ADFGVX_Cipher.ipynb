{
  "nbformat": 4,
  "nbformat_minor": 0,
  "metadata": {
    "colab": {
      "provenance": [],
      "authorship_tag": "ABX9TyM3Yp3hSNd7qZLvie1hyS78",
      "include_colab_link": true
    },
    "kernelspec": {
      "name": "python3",
      "display_name": "Python 3"
    },
    "language_info": {
      "name": "python"
    }
  },
  "cells": [
    {
      "cell_type": "markdown",
      "metadata": {
        "id": "view-in-github",
        "colab_type": "text"
      },
      "source": [
        "<a href=\"https://colab.research.google.com/github/vnwrywn/CryptoLearning/blob/main/ADFGVX_Cipher.ipynb\" target=\"_parent\"><img src=\"https://colab.research.google.com/assets/colab-badge.svg\" alt=\"Open In Colab\"/></a>"
      ]
    },
    {
      "cell_type": "markdown",
      "source": [
        "# ADFGVX Cipher\n",
        "\n",
        "Implementasi encoding & decoding ADFGVX Cipher dengan python.\n",
        "\n",
        "Oleh Muhammad Ivan Wiryawan (NIM 195150200111060 & No. Absen 6)\n",
        "\n",
        "Dibuat dalam rangka pengerjaan tugas mata kuliah Kriptografi.\n",
        "\n",
        "---\n",
        "\n",
        "Dalam tabel yang digunakan untuk proses enkripsi & dekripsi, setiap huruf latin dan angka hanya muncul satu kali, maka dari itu digunakan fungsi sebagai berikut untuk mempermudah pembuatan tabel."
      ],
      "metadata": {
        "id": "0TJ3pxA2W3ZN"
      }
    },
    {
      "cell_type": "code",
      "source": [
        "def remove_duplicate(str):\n",
        "  s = ''.join(set(str))\n",
        "  t = ''\n",
        "\n",
        "  for i in str:\n",
        "    t += i * (not i in t)\n",
        "    \n",
        "  return t"
      ],
      "metadata": {
        "id": "SUpfPEdrZroc"
      },
      "execution_count": null,
      "outputs": []
    },
    {
      "cell_type": "markdown",
      "source": [
        "## Fungsi Create Table\n",
        "\n",
        "Fungsi ini digunakan untuk membuat tabel yang akan digunakan dalam proses enkripsi dan dekripsi. Tabel dibuat dengan pertama-tama menjabarkan seluruh huruf dan angka yang berada dalam sebuah tabel."
      ],
      "metadata": {
        "id": "wcQo1_ddSaqS"
      }
    },
    {
      "cell_type": "code",
      "source": [
        "def create_table(key):\n",
        "  keyspace = ['A1', 'B2', 'C3', 'D4', 'E5', 'F6', 'G7', 'H8', 'I9', 'J0', 'K', 'L', 'M', 'N', 'O', 'P', 'Q', 'R', 'S', 'T', 'U', 'V', 'W', 'X', 'Y', 'Z']\n",
        "  alphanum = remove_duplicate(''.join([keyspace[ord(i)-65] for i in key.upper().replace(' ', '')] + keyspace))\n",
        "\n",
        "  table = [[None]*6 for _ in range(6)]\n",
        "\n",
        "  for i in range(len(alphanum)):\n",
        "    table[i//6][i%6] = alphanum[i]\n",
        "  \n",
        "  return table"
      ],
      "metadata": {
        "id": "aJRWeNY6ag7F"
      },
      "execution_count": null,
      "outputs": []
    },
    {
      "cell_type": "markdown",
      "source": [
        "## Fungsi 2 Dimensional Index\n",
        "\n",
        "Fungsi ini digunakan untuk mencari indeks dua dimensi suatu list, yang digunakan dalam berbagai fungsi implementasi ADFGVX ini."
      ],
      "metadata": {
        "id": "TMeQeRD8TBTm"
      }
    },
    {
      "cell_type": "code",
      "source": [
        "def two_dim_index(t, l):\n",
        "  for i in range(len(t)):\n",
        "    try:\n",
        "      return [i, t[i].index(l)]\n",
        "    except ValueError:\n",
        "      continue"
      ],
      "metadata": {
        "id": "V0rEPusMlujT"
      },
      "execution_count": null,
      "outputs": []
    },
    {
      "cell_type": "markdown",
      "source": [
        "## Fungsi Encode\n",
        "\n",
        "Fungsi ini memetakan plaintext dengan tabel yang telah dibuat menjadi rangkaian huruf yang terdiri atas huruf 'A', 'D', 'F', 'G', 'V', dan 'X'"
      ],
      "metadata": {
        "id": "SkRQXRnpTTIv"
      }
    },
    {
      "cell_type": "code",
      "source": [
        "def encode(t, p):\n",
        "  in_trans = ['A', 'D', 'F', 'G', 'V', 'X']\n",
        "  res = ''\n",
        "\n",
        "  for letter in p.replace(' ', '').upper():\n",
        "    indices = two_dim_index(t, letter)\n",
        "    res += in_trans[indices[0]] + in_trans[indices[1]]\n",
        "\n",
        "  return res"
      ],
      "metadata": {
        "id": "jAVeVdACe-h8"
      },
      "execution_count": null,
      "outputs": []
    },
    {
      "cell_type": "markdown",
      "source": [
        "## Fungsi Decode\n",
        "\n",
        "Fungsi ini memetakan kembali rangkaian huruf yang terdiri atas huruf 'A', 'D', 'F', 'G', 'V', dan 'X' dengan tabel yang telah dibuat menjadi plaintext."
      ],
      "metadata": {
        "id": "Qm4BSvRpTxLZ"
      }
    },
    {
      "cell_type": "code",
      "source": [
        "def decode(t, c):\n",
        "  in_trans = ['A', 'D', 'F', 'G', 'V', 'X']\n",
        "  return ''.join([t[in_trans.index(c[i * 2])][in_trans.index(c[(i * 2) + 1])] for i in range(len(c) // 2)])"
      ],
      "metadata": {
        "id": "t9y5PEvFm5vW"
      },
      "execution_count": null,
      "outputs": []
    },
    {
      "cell_type": "markdown",
      "source": [
        "## Fungsi Enkripsi\n",
        "\n",
        "Fungsi ini merupakan tahapan terakhir dalam proses enkripsi yang melakukan transposisi kolum berdasarkan sebuah key dan kemudian mengurutkan teks dari kolom-ke-kolom."
      ],
      "metadata": {
        "id": "3UDQ-4_sUDHW"
      }
    },
    {
      "cell_type": "code",
      "source": [
        "def encrypt(k, p):\n",
        "  k = remove_duplicate(k.replace(' ', '').upper())\n",
        "  order = [sorted(k).index(letter) for letter in k]\n",
        "  column = {i:[] for i in order}\n",
        "\n",
        "  for i in range(len(p)):\n",
        "    column[order[i % len(order)]] += p[i]\n",
        "\n",
        "  return ''.join(letter for i in range(len(k)) for letter in column[i])"
      ],
      "metadata": {
        "id": "dP6eim28piDU"
      },
      "execution_count": null,
      "outputs": []
    },
    {
      "cell_type": "markdown",
      "source": [
        "## Fungsi Dekripsi\n",
        "\n",
        "Fungsi ini merupakan tahapan awal dari proses dekripsi yang dilakukan dengan memecah ciphertext menjadi beberapa kolom. Kolom-kolom ini kemudian ditransposisikan berdasarkan sebuah key, yang kemudian akan dibaca secara baris-per-baris."
      ],
      "metadata": {
        "id": "Cpy5uiJWUVuv"
      }
    },
    {
      "cell_type": "code",
      "source": [
        "from math import ceil\n",
        "\n",
        "def decrypt(k, c):\n",
        "  k = remove_duplicate(k).upper()\n",
        "  order = [sorted(k).index(letter) for letter in k]\n",
        "  column = {i:'' for i in order}\n",
        "  counter = 0\n",
        "  row = ceil(len(c) / len(k)) + (1 * ((len(c) % len(k)) == 0))\n",
        "\n",
        "  for i in range(len(k)):\n",
        "    row -= 1 * ((len(c) % len(k)) == i)\n",
        "    column[i] = c[counter:counter+row]\n",
        "    counter += row\n",
        "  \n",
        "  return ''.join([column[order[i % len(column)]][i // len(column)] for i in range(len(c))])"
      ],
      "metadata": {
        "id": "2PbkkwCo69t_"
      },
      "execution_count": null,
      "outputs": []
    },
    {
      "cell_type": "markdown",
      "source": [
        "## Percobaan\n",
        "\n",
        "Percobaan enkripsi plaintext menjadi ciphertext dan dekripsi ciphertext kembali menjadi plaintex didasarkan pada contoh pada [halaman wikipedia cipher ADFGVX](https://en.wikipedia.org/wiki/ADFGVX_cipher)."
      ],
      "metadata": {
        "id": "DZ4hlYB0VGgy"
      }
    },
    {
      "cell_type": "code",
      "source": [
        "plaintext = 'attack at 1200am'\n",
        "squarekey = 'nachtbommenwerper'\n",
        "table = create_table(squarekey)\n",
        "table"
      ],
      "metadata": {
        "colab": {
          "base_uri": "https://localhost:8080/"
        },
        "id": "mcYOEYjCGQBA",
        "outputId": "2f83f69c-0a6e-40b1-9e8f-a0229710a17a"
      },
      "execution_count": null,
      "outputs": [
        {
          "output_type": "execute_result",
          "data": {
            "text/plain": [
              "[['N', 'A', '1', 'C', '3', 'H'],\n",
              " ['8', 'T', 'B', '2', 'O', 'M'],\n",
              " ['E', '5', 'W', 'R', 'P', 'D'],\n",
              " ['4', 'F', '6', 'G', '7', 'I'],\n",
              " ['9', 'J', '0', 'K', 'L', 'Q'],\n",
              " ['S', 'U', 'V', 'X', 'Y', 'Z']]"
            ]
          },
          "metadata": {},
          "execution_count": 9
        }
      ]
    },
    {
      "cell_type": "code",
      "source": [
        "encoded_plaintext = encode(table, plaintext)\n",
        "encoded_plaintext"
      ],
      "metadata": {
        "colab": {
          "base_uri": "https://localhost:8080/",
          "height": 36
        },
        "id": "w-El3fPJG8HH",
        "outputId": "8577140c-9f07-4b6b-ad01-6bebadfe46af"
      },
      "execution_count": null,
      "outputs": [
        {
          "output_type": "execute_result",
          "data": {
            "text/plain": [
              "'ADDDDDADAGVGADDDAFDGVFVFADDX'"
            ],
            "application/vnd.google.colaboratory.intrinsic+json": {
              "type": "string"
            }
          },
          "metadata": {},
          "execution_count": 10
        }
      ]
    },
    {
      "cell_type": "code",
      "source": [
        "key = 'privacy'\n",
        "ciphertext = encrypt(key, encoded_plaintext)\n",
        "ciphertext"
      ],
      "metadata": {
        "colab": {
          "base_uri": "https://localhost:8080/",
          "height": 36
        },
        "id": "gQLgq0ZQKmJp",
        "outputId": "8ed4a7b2-11f7-4ec2-810f-9a6fe3e90676"
      },
      "execution_count": null,
      "outputs": [
        {
          "output_type": "execute_result",
          "data": {
            "text/plain": [
              "'DGDDDAGDDGAFADDFDADVDVFAADVX'"
            ],
            "application/vnd.google.colaboratory.intrinsic+json": {
              "type": "string"
            }
          },
          "metadata": {},
          "execution_count": 11
        }
      ]
    },
    {
      "cell_type": "code",
      "source": [
        "decrypted_ciphertext = decrypt(key, ciphertext)\n",
        "decrypted_ciphertext"
      ],
      "metadata": {
        "colab": {
          "base_uri": "https://localhost:8080/",
          "height": 36
        },
        "id": "QDXJFLLaMltS",
        "outputId": "306610f9-d178-45a2-c789-828098949c42"
      },
      "execution_count": null,
      "outputs": [
        {
          "output_type": "execute_result",
          "data": {
            "text/plain": [
              "'ADDDDDADAGVGADDDAFDGVFVFADDX'"
            ],
            "application/vnd.google.colaboratory.intrinsic+json": {
              "type": "string"
            }
          },
          "metadata": {},
          "execution_count": 12
        }
      ]
    },
    {
      "cell_type": "code",
      "source": [
        "decoded_decrypted_ciphertext = decode(table, decrypted_ciphertext)\n",
        "decoded_decrypted_ciphertext"
      ],
      "metadata": {
        "colab": {
          "base_uri": "https://localhost:8080/",
          "height": 36
        },
        "id": "n3GXkFdCQafO",
        "outputId": "58dd9ecb-84b2-4ceb-e3e7-3427be27b1bb"
      },
      "execution_count": null,
      "outputs": [
        {
          "output_type": "execute_result",
          "data": {
            "text/plain": [
              "'ATTACKAT1200AM'"
            ],
            "application/vnd.google.colaboratory.intrinsic+json": {
              "type": "string"
            }
          },
          "metadata": {},
          "execution_count": 13
        }
      ]
    },
    {
      "cell_type": "code",
      "source": [
        "squarekey = ''\n",
        "table = create_table(squarekey)\n",
        "ciphertext = 'VDDGDVDVDGDGDVVDDXDGXADVVDXDXVVDDAVADXVXVVADDXXADVXXVDDDDVXVXDDVDXXGVDDDDVXXGDDDVVVDDDAXVXDDAVADXXVDGDDXDDGGGVDAGXVVAAVDDVDXDVDDVXDDFXADAVADDAAAXFXDDDXXXDADGDDDDDXGAVGVAGAVDVVADXDAADDDDDDXDGDDDDDDDXXXXADDVXXGVFFDGDDADFVGVXVVAVGVAGAAVDVGGDDXDDGDDAGDVVADVVGGDDVGFXGADAXDDVDDVVFDGVFVVVGDFGADDDXDDVGGDDDXDDDDXGVADDDVGDADADDGDVAAGDGDAFVVFAXDVVVDDDVDGXAVGXDGVXVDGGDVDGDDXGDVDXDXVDVAVVXDDVGGGVGVDXDADDDDDXVGFVDDXXGDFVGGVDAXXXDADVDVXVDAFDFXAFDVVFDADVDFGXXDDDDXXXAFVDVXGDXGADFDXDAVDXDAXDDVVDDDGFVGDDXVGGDXXVGXDVDVVXVXVADVXGDFVXGXGVAGVXXDDVDDVXDDFVDDDDVXXGDDGDDGGVXGXGVAGGGDDGGDVDVXVXVXGVDDGDDXDDDXVGFVGVDDDVDGXXFVDGVVDGVGVDDAAAAGVAVVFDADADAADXAAVGDFXGADAXDAVXXGVFFDXGDFDVDAADADAADGDGGDGDXXXAFVGVGDDDDDXDGDAFVVFAADDVVFDGVFVAXDADAXVGVGDDDADDDDAFDXDGVGVDDADAAAGDDDDDXXXDAVADDAAAXAVDVGADXVXVXGVDVDDXVVDDDGFDVDVVXAVVDAXVXDDVDXDVGDVDVDGD'\n",
        "decode(table, decrypt('python', ciphertext))"
      ],
      "metadata": {
        "colab": {
          "base_uri": "https://localhost:8080/",
          "height": 71
        },
        "id": "QCFh29idKQZt",
        "outputId": "12321354-95c9-4cfe-e9f7-0262c1da2849"
      },
      "execution_count": null,
      "outputs": [
        {
          "output_type": "execute_result",
          "data": {
            "text/plain": [
              "'MMIR4D4401LPV0GVSOVVO6MT1VK5L6PP7D20Q01YM6SM6E46A4VGND40475RYT0CD0HP44Y4RS4SVZHT5FVDANF6S5PFYD4J70RJDAZFFYU454FF6S5FJ4Z4VS3VM4UGA1PD704PT0464ODPW410S166NVN4LYLCV4571IP744PVMPDT71S1O6ZD06UPT5MT1POV6446442FPCTT1661L60Y4PBJCQIT0OTX084440D1OU4VOCQNFFJCLF1MV46YVSRAFJ3JVSF6N5S4Y67JSU5TMOXADS4YV34SZY1FR415TRPYV1MVT4NP7PVP75X84K5PVXJMMLP40CGSM5MTTOUF4YCYFAF4D2OC5644F14TCFV454NWF4T7MLT0G44PFMD5664VVSVVVWMY340G75PS4JM'"
            ],
            "application/vnd.google.colaboratory.intrinsic+json": {
              "type": "string"
            }
          },
          "metadata": {},
          "execution_count": 26
        }
      ]
    },
    {
      "cell_type": "code",
      "source": [
        "table"
      ],
      "metadata": {
        "colab": {
          "base_uri": "https://localhost:8080/"
        },
        "id": "_WW0EwD3LNBa",
        "outputId": "0b81050a-665f-4eee-90c9-e03895adbb95"
      },
      "execution_count": null,
      "outputs": [
        {
          "output_type": "execute_result",
          "data": {
            "text/plain": [
              "[['A', '1', 'B', '2', 'C', '3'],\n",
              " ['D', '4', 'E', '5', 'F', '6'],\n",
              " ['G', '7', 'H', '8', 'I', '9'],\n",
              " ['J', '0', 'K', 'L', 'M', 'N'],\n",
              " ['O', 'P', 'Q', 'R', 'S', 'T'],\n",
              " ['U', 'V', 'W', 'X', 'Y', 'Z']]"
            ]
          },
          "metadata": {},
          "execution_count": 27
        }
      ]
    }
  ]
}