{
  "nbformat": 4,
  "nbformat_minor": 0,
  "metadata": {
    "colab": {
      "provenance": [],
      "authorship_tag": "ABX9TyNRrM4Ag1A0U/hD4+g+t8F8",
      "include_colab_link": true
    },
    "kernelspec": {
      "name": "python3",
      "display_name": "Python 3"
    },
    "language_info": {
      "name": "python"
    }
  },
  "cells": [
    {
      "cell_type": "markdown",
      "metadata": {
        "id": "view-in-github",
        "colab_type": "text"
      },
      "source": [
        "<a href=\"https://colab.research.google.com/github/vnwrywn/CryptoLearning/blob/main/DHKE.ipynb\" target=\"_parent\"><img src=\"https://colab.research.google.com/assets/colab-badge.svg\" alt=\"Open In Colab\"/></a>"
      ]
    },
    {
      "cell_type": "markdown",
      "source": [
        "# Diffie Hellman Key Exchange\n",
        "\n",
        "Implementasi Diffie Hellman Key Exchange dengan python.\n",
        "\n",
        "Oleh Muhammad Ivan Wiryawan (NIM 195150200111060 & No. Absen 6)\n",
        "\n",
        "Dibuat dalam rangka pengerjaan tugas mata kuliah Kriptografi.\n",
        "\n",
        "---\n",
        "\n",
        "## Penentuan Nilai Variabel\n",
        "\n",
        "DHKE menggunakan beberapa variabel yang bersifat antara publik atau rahasia dan antara bersama atau pribadi.\n",
        "\n",
        "- Variabel publik bersama, yang terdiri atas: p (modulus) dan g (dasar), merupakan variabel yang disepakati oleh kedua pihak dan diketahui oleh umum. \n",
        "- Variabel rahasia pribadi, yang terdiri atas: a (private key Alice) dan b (private key Bob), merupakan variabel yang rahasia dan ditentukan oleh masing-masing pihak secara independen.\n",
        "- Variabel publik pribadi, yang terdiri atas: A (public key Alice) dan B (public key Bob), merupakan variabel yang diketahui oleh umum dan unik untuk setiap pihak.\n",
        "- Variabel rahasia bersama, yakni s (private key bersama), merupakan variabel yang rahasia dan merupakan hasil akhir dari algoritma DHKE."
      ],
      "metadata": {
        "id": "0TJ3pxA2W3ZN"
      }
    },
    {
      "cell_type": "code",
      "source": [
        "p = 23\n",
        "g = 5\n",
        "a = 6\n",
        "b = 15"
      ],
      "metadata": {
        "id": "SUpfPEdrZroc"
      },
      "execution_count": null,
      "outputs": []
    },
    {
      "cell_type": "markdown",
      "source": [
        "## Perhitungan Public Key\n",
        "\n",
        "Untuk mengkomputasi variabel A dan B, digunakan perhitungan sebagai berikut:\n",
        "\n",
        "$$A = g^{a} \\text{ mod }  p \\; \\; \\; \\; \\; \\; \\; \\; \\; \\; \\; \\; B = g^{b} \\text{ mod }  p$$\n",
        "\n",
        "Perhitungan seperti di atas dapat diimplementasikan dengan kode di bawah."
      ],
      "metadata": {
        "id": "YjjDDEVk96wo"
      }
    },
    {
      "cell_type": "code",
      "source": [
        "A = pow(g, a, p)\n",
        "B = pow(g, b, p)\n",
        "print('A:', A, '\\nB:', B)"
      ],
      "metadata": {
        "colab": {
          "base_uri": "https://localhost:8080/"
        },
        "id": "yXFHtCXt-WuW",
        "outputId": "39ef98bf-5f33-478c-fdb2-ab7faa705447"
      },
      "execution_count": null,
      "outputs": [
        {
          "output_type": "stream",
          "name": "stdout",
          "text": [
            "A: 8 \n",
            "B: 19\n"
          ]
        }
      ]
    },
    {
      "cell_type": "markdown",
      "source": [
        "## Perhitungan Private Key Bersama\n",
        "\n",
        "Untuk mengkomputasi variabel s, digunakan perhitungan sebagai berikut:\n",
        "\n",
        "$$s = B^{a} \\text{ mod }  p \\; \\; \\; \\; \\; \\text{atau} \\; \\; \\; \\; \\;  s = A^{b} \\text{ mod }  p$$\n",
        "\n",
        "Perhitungan seperti di atas dapat diimplementasikan dengan kode di bawah."
      ],
      "metadata": {
        "id": "06Ny-S5O-b4O"
      }
    },
    {
      "cell_type": "code",
      "source": [
        "s_a = pow(B, a, p)\n",
        "s_b = pow(A, b, p)\n",
        "print('s_a:', s_a, '\\ns_b:', s_b)"
      ],
      "metadata": {
        "colab": {
          "base_uri": "https://localhost:8080/"
        },
        "id": "4WW3Thc7OkYM",
        "outputId": "8e3a863c-0081-4d02-90c5-5c89f83270fc"
      },
      "execution_count": null,
      "outputs": [
        {
          "output_type": "stream",
          "name": "stdout",
          "text": [
            "s_a: 2 \n",
            "s_b: 2\n"
          ]
        }
      ]
    },
    {
      "cell_type": "markdown",
      "source": [
        "Dapat dilihat berdasarkan keluaran di atas bahwa kedua perhitungan memeberikan hasil yang sama. Hal ini dikarenakan $A^{b} \\text{ mod } p = (g^{a} \\text{ mod }  p)^{b} \\text{ mod }  p = (g^{b} \\text{ mod }  p)^{a} \\text{ mod }  p = B^{a} \\text{ mod }  p$.\n",
        "\n",
        "## Algoritma Brute Force\n",
        "\n",
        "Untuk mengetahui variabel-variabel rahasia pribadi dari variabel-variabel publik yang diketahui, kita dapat menggunakan algoritma brute force yang sangat simpel. Akan tetapi, pemecahan dengan menggunakan algoritma bruteforce sangatlah tidak efisien, dan bahkan tidak efektif apabila nilai variabel p, a, dan b cukup besar. Algoritma brute force yang digunakan melakukan iterasi dari angka 1 sampai nilai p untuk mencari hasil kalkulasi pemangkatan modular yang sesuai dengan public key-nya. Fungsi menggunakan beberapa parameter, yakni nilai dari variabel g, nilai dari variabel p, dan nilai dari public key yang mau dicari private key-nya, serta akan mengembalikan sebuah list yang berisikan nilai-nilai private key yang mungkin digunakan."
      ],
      "metadata": {
        "id": "gqA1c9YS_K2O"
      }
    },
    {
      "cell_type": "code",
      "source": [
        "def bruteforce(g, p, public):\n",
        "  private = []\n",
        "\n",
        "  for i in range(1, p):\n",
        "    if pow(g, i, p) == public:\n",
        "      private.append(i)\n",
        "\n",
        "  return private"
      ],
      "metadata": {
        "id": "17s8voaQPdxY"
      },
      "execution_count": null,
      "outputs": []
    },
    {
      "cell_type": "markdown",
      "source": [
        "## Pecobaan Pemecahan\n",
        "\n",
        "### Pemecahan dengan Nilai Variabel yang Sangat Kecil\n",
        "\n",
        "Untuk memecahkan private key dari public key yang telah digunakan pada contoh sebelumnya memerlukan waktu yang sangat singkat, bahkan dengan hanya penghitungan secara manual."
      ],
      "metadata": {
        "id": "3tNUzWwwCFet"
      }
    },
    {
      "cell_type": "code",
      "source": [
        "cracked_a = bruteforce(g, p, A)\n",
        "cracked_b = bruteforce(g, p, B)\n",
        "print('Cracked a:', cracked_a, '\\nCracked b:', cracked_b)"
      ],
      "metadata": {
        "colab": {
          "base_uri": "https://localhost:8080/"
        },
        "id": "uKdI3fP5WnAZ",
        "outputId": "63233ca5-4f57-4d02-ba80-47d6189b58d1"
      },
      "execution_count": null,
      "outputs": [
        {
          "output_type": "stream",
          "name": "stdout",
          "text": [
            "Cracked a: [6] \n",
            "Cracked b: [15]\n"
          ]
        }
      ]
    },
    {
      "cell_type": "markdown",
      "source": [
        "Dapat dilihat pada hasil keluaran di atas bahwa ditemukan sebuah nilai a dan sebuah b yang mungkin digunakan. Dengan memperoleh nilai a dan nilai b, kita dapat mengkomputasi nilai s dengan mengikuti rumus-rumus yang telah dijabarkan pada bagian-bagian sebelumnya."
      ],
      "metadata": {
        "id": "aaJT7axIConq"
      }
    },
    {
      "cell_type": "code",
      "source": [
        "print('Cracked s:', pow(pow(g, cracked_b[0], p), cracked_a[0], p))"
      ],
      "metadata": {
        "colab": {
          "base_uri": "https://localhost:8080/"
        },
        "id": "zf3SF8OBbNBp",
        "outputId": "c605dfe9-d529-4988-951e-3210d986cf22"
      },
      "execution_count": null,
      "outputs": [
        {
          "output_type": "stream",
          "name": "stdout",
          "text": [
            "Cracked s: 2\n"
          ]
        }
      ]
    },
    {
      "cell_type": "markdown",
      "source": [
        "### Pemecahan dengan Nilai variabel Kecil\n",
        "\n",
        "Dalam percobaan ini kita akan mencoba memecahkan private key dari public key yang berukuran lebih besar dari percobaan berikutnya, meskipun masih relatif sangat kecil dengan nilai yang umumnya digunakan."
      ],
      "metadata": {
        "id": "MN2KFIgwE-S2"
      }
    },
    {
      "cell_type": "code",
      "source": [
        "p = 3597199\n",
        "g = 5\n",
        "a = 3065147\n",
        "b = 1061668\n",
        "A = pow(g, a, p)\n",
        "B = pow(g, b, p)\n",
        "s_a = pow(B, a, p)\n",
        "s_b = pow(A, b, p)\n",
        "print('A:', A, '\\nB:', B, '\\ns_a:', s_a, '\\ns_b:', s_b)"
      ],
      "metadata": {
        "colab": {
          "base_uri": "https://localhost:8080/"
        },
        "id": "E59dGXOYdFPL",
        "outputId": "8dbfb962-05b9-42e2-a088-a23869247fb1"
      },
      "execution_count": null,
      "outputs": [
        {
          "output_type": "stream",
          "name": "stdout",
          "text": [
            "A: 371275 \n",
            "B: 1863430 \n",
            "s_a: 2214738 \n",
            "s_b: 2214738\n"
          ]
        }
      ]
    },
    {
      "cell_type": "code",
      "source": [
        "cracked_a = bruteforce(g, p, A)\n",
        "cracked_b = bruteforce(g, p, B)\n",
        "print('Cracked a:', cracked_a, '\\nCracked b:', cracked_b)"
      ],
      "metadata": {
        "colab": {
          "base_uri": "https://localhost:8080/"
        },
        "id": "TWwjjSKSdflf",
        "outputId": "33cdb734-56f9-4cc6-f4db-f3a86b97435f"
      },
      "execution_count": null,
      "outputs": [
        {
          "output_type": "stream",
          "name": "stdout",
          "text": [
            "Cracked a: [67482, 667015, 1266548, 1866081, 2465614, 3065147] \n",
            "Cracked b: [462135, 1061668, 1661201, 2260734, 2860267, 3459800]\n"
          ]
        }
      ]
    },
    {
      "cell_type": "markdown",
      "source": [
        "Perlu diperhatikan bahwa pada percobaan ini bahwa nilai a dan b yang diperoleh tidaklah hanya satu."
      ],
      "metadata": {
        "id": "WGKMMHraFpkL"
      }
    },
    {
      "cell_type": "code",
      "source": [
        "print('Cracked s:', [pow(pow(g, possible_b, p), possible_a, p) for possible_a in cracked_a for possible_b in cracked_b])"
      ],
      "metadata": {
        "colab": {
          "base_uri": "https://localhost:8080/"
        },
        "id": "jzFjctiueesK",
        "outputId": "e514535e-0aa2-47f6-d0dd-46a1443160ce"
      },
      "execution_count": null,
      "outputs": [
        {
          "output_type": "stream",
          "name": "stdout",
          "text": [
            "Cracked s: [2214738, 2214738, 2214738, 2214738, 2214738, 2214738, 2214738, 2214738, 2214738, 2214738, 2214738, 2214738, 2214738, 2214738, 2214738, 2214738, 2214738, 2214738, 2214738, 2214738, 2214738, 2214738, 2214738, 2214738, 2214738, 2214738, 2214738, 2214738, 2214738, 2214738, 2214738, 2214738, 2214738, 2214738, 2214738, 2214738]\n"
          ]
        }
      ]
    },
    {
      "cell_type": "markdown",
      "source": [
        "Dapat dilihat bahwa seluruh nilai a dan b yang dipecahkan dapat digunakan untuk memperoleh nilai s. Hal ini berarti seorang penyerang tidak perlu untuk menemukan nilai dari private key a dan b yang digunakan oleh Alice dan Bob, melainkan hanya perlu menemukan suatu nilai acak yang dapat menghasilkan public key A dan B. Hal ini tentunya akan menimbulkan ketidakamanan, karena besarnya komputasi yang perlu dilakukan menciut. Hal ini dapat diatasi dengan menggunakan [bilangan prima Sophie Germain](https://en.wikipedia.org/wiki/Sophie_Germain_prime) yang dapat digunakan untuk mengkalkulasikan [bilangan prima aman](https://en.wikipedia.org/wiki/Safe_prime), yang digunakan sebagai g (modulo).\n",
        "\n",
        "### Pemecahan dengan Nilai Variabel Kecil dan Nilai Modulo Bilangan Prima Aman\n",
        "\n",
        "Dalam percobaan ini kita akan mencoba memecahkan private key yang berukuran relatif sangat kecil dengan nilai yang umumnya digunakan dari public key yang dikomputasi dengan menggunakan bilangan prima aman sebagai nilai g (modulo)."
      ],
      "metadata": {
        "id": "FsuQStITH_ts"
      }
    },
    {
      "cell_type": "code",
      "source": [
        "p = 4840103\n",
        "g = 5\n",
        "a = 2442567\n",
        "b = 3920755\n",
        "A = pow(g, a, p)\n",
        "B = pow(g, b, p)\n",
        "s_a = pow(B, a, p)\n",
        "s_b = pow(A, b, p)\n",
        "print('A:', A, '\\nB:', B, '\\ns_a:', s_a, '\\ns_b:', s_b) "
      ],
      "metadata": {
        "colab": {
          "base_uri": "https://localhost:8080/"
        },
        "id": "1AjTqRn6h_Rs",
        "outputId": "8af386f8-4244-451f-d70e-5bda532bbf64"
      },
      "execution_count": null,
      "outputs": [
        {
          "output_type": "stream",
          "name": "stdout",
          "text": [
            "A: 2874237 \n",
            "B: 4070087 \n",
            "s_a: 4699616 \n",
            "s_b: 4699616\n"
          ]
        }
      ]
    },
    {
      "cell_type": "code",
      "source": [
        "cracked_a = bruteforce(g, p, A)\n",
        "cracked_b = bruteforce(g, p, B)\n",
        "cracked_s = [pow(B, possible_a, p) for possible_a in cracked_a]\n",
        "print('Cracked a:', cracked_a, '\\nCracked b:', cracked_b, '\\nCracked s:', cracked_s)"
      ],
      "metadata": {
        "colab": {
          "base_uri": "https://localhost:8080/"
        },
        "id": "4L0BjrjiiYYl",
        "outputId": "af47ba84-0557-4ffc-b0db-c35fb3ab182c"
      },
      "execution_count": null,
      "outputs": [
        {
          "output_type": "stream",
          "name": "stdout",
          "text": [
            "Cracked a: [2442567] \n",
            "Cracked b: [3920755] \n",
            "Cracked s: [4699616]\n"
          ]
        }
      ]
    },
    {
      "cell_type": "markdown",
      "source": [
        "Dapat dilihat pada hasil percobaan ini bahwa nilai a dan nilai b yang dapat digunakan berjumlah masing-masing satu. Hal ini berarti—berbeda dengan percobaan sebelumnya, yang mana penyerang dapat menggunakan nilai a sembarang dan nilai b sembarang yang memenuhi—penyerang perlu menemukan nilai a spesifik dan nilai b spesifik yang digunakan oleh Alice dan Bob untuk dapat mengkomputasi nilai s.\n",
        "\n",
        "## Kesimpulan\n",
        "\n",
        "Diffie-Hellman key exchange merupakan sebuah algortima yang implementasinya harus diperhatikan agar tidak menimbulkan celah keamanan yang dapat dieksploitasi. Variabel a, b, dan terutama p haruslah cukup besar relatif terhadap kemampuan komputasi perangkat dan kapasitas infrastruktur jaringan yang digunakan. Selain itu, penggunaan bilangan prima aman sebagai nilai p sangatlah disarankan untuk tidak memberikan kemudahan kepada penyerang."
      ],
      "metadata": {
        "id": "Bv6kSG_ZLJRE"
      }
    }
  ]
}